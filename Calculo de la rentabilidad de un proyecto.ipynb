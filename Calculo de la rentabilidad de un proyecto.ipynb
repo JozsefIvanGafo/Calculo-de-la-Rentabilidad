{
 "cells": [
  {
   "cell_type": "markdown",
   "id": "1c8bf532",
   "metadata": {},
   "source": [
    "# Calculo de la Rentabilidad de Un proyecto"
   ]
  },
  {
   "cell_type": "markdown",
   "id": "827ac6a2",
   "metadata": {},
   "source": [
    "## 1. Import Files "
   ]
  },
  {
   "cell_type": "code",
   "execution_count": 1,
   "id": "5f1e7328",
   "metadata": {},
   "outputs": [],
   "source": [
    "# Importar las librerías necesarias\n",
    "import numpy as np\n",
    "import pandas as pd\n",
    "from scipy.optimize import fsolve\n",
    "import scipy.stats as stats\n",
    "import matplotlib.pyplot as plt"
   ]
  },
  {
   "cell_type": "markdown",
   "id": "072429e6",
   "metadata": {},
   "source": [
    "## 2. Set up"
   ]
  },
  {
   "cell_type": "markdown",
   "id": "969aedfc",
   "metadata": {},
   "source": [
    "### 2.1 Cargar los datos"
   ]
  },
  {
   "cell_type": "code",
   "execution_count": null,
   "id": "4d3ce5a5",
   "metadata": {},
   "outputs": [
    {
     "name": "stdout",
     "output_type": "stream",
     "text": [
      "Sheet name: param\n",
      "      Inversion  Impuestos  Numero_de_iteraciones  Numero_annos  \\\n",
      "0  1.000000e+10        0.3                10000.0          15.0   \n",
      "1           NaN        NaN                    NaN           NaN   \n",
      "2           NaN        NaN                    NaN           NaN   \n",
      "\n",
      "   annos_de_inversion  %_inv_por_anno  \n",
      "0                 3.0             0.2  \n",
      "1                 NaN             0.5  \n",
      "2                 NaN             0.3  \n",
      "\n",
      "\n",
      "Sheet name: recursos_ing\n",
      "  Nombre del recurso  precio_P_0  precio_P_25  precio_P_50  precio_P_75  \\\n",
      "0  Tarjetas graficas       15000        17000        20000        25000   \n",
      "1         Procesador        3500         4000         6000         8000   \n",
      "2                RAM         450          500          600          800   \n",
      "\n",
      "   precio_P_100  cantidad_P_0  cantidad_P_25  cantidad_P_50  cantidad_P_75  \\\n",
      "0         30000         50000         750000         100000         200000   \n",
      "1         15000         12500         187500          25000          50000   \n",
      "2           900         25000         375000          50000         100000   \n",
      "\n",
      "   cantidad_P_100  precio_prod_P_0  precio_prod_P_25  precio_prod_P_50  \\\n",
      "0          500000             7000              9000             11000   \n",
      "1          125000             2500              3000              4000   \n",
      "2          250000              150               200               350   \n",
      "\n",
      "   precio_prod_P_75  precio_prod_P_100  \n",
      "0             13000              15000  \n",
      "1              5000               6000  \n",
      "2               400                450  \n",
      "\n",
      "\n",
      "Sheet name: cv\n",
      "Empty DataFrame\n",
      "Columns: [Nombre del recurso, precio_P_0, precio_P_25, precio_P_50, precio_P_75, precio_P_100, cantidad_P_0, cantidad_P_25, cantidad_P_50, cantidad_P_75, cantidad_P_100]\n",
      "Index: []\n",
      "\n",
      "\n",
      "Sheet name: cf\n",
      "            TIPO    Coste\n",
      "0   Electricidad   583000\n",
      "1  Mantenimiento  1000000\n",
      "\n",
      "\n"
     ]
    }
   ],
   "source": [
    "data_path = 'data/INPUT.xlsx'\n",
    "\n",
    "try:\n",
    "    input = {\n",
    "        'param': pd.read_excel(data_path, sheet_name='Parametros'),\n",
    "        'recursos_ing': pd.read_excel(data_path, sheet_name='Recursos_ing'),\n",
    "        'cv': pd.read_excel(data_path, sheet_name='CV'),#costos variables\n",
    "        'cf': pd.read_excel(data_path, sheet_name='CF')#costos fijos\n",
    "    }\n",
    "except FileNotFoundError:\n",
    "    print(f'No se encontró el archivo {data_path}')\n",
    "except Exception as e:\n",
    "    print(f'Error al leer el archivo {data_path}: {e}')\n",
    "\n",
    "for key, value in input.items():\n",
    "    print(f\"Sheet name: {key}\")\n",
    "    print(value)\n",
    "    print(\"\\n\")"
   ]
  },
  {
   "cell_type": "markdown",
   "id": "d012a10a",
   "metadata": {},
   "source": [
    "### 2.2 Defenir parametros"
   ]
  },
  {
   "cell_type": "code",
   "execution_count": null,
   "id": "d108a062",
   "metadata": {},
   "outputs": [],
   "source": [
    "n_iteraciones= input['param']['n_iteraciones'][0]\n",
    "inversion= input['param']['inversion'][0]\n",
    "impuestos= input['param']['impuestos'][0]\n",
    "numero_annos= input['param']['numero_annos'][0]\n",
    "porcen_inv_annos= input['param']['porcen_inv_annos'][0:numero_annos]\n",
    "print(f\"n_iteraciones: {n_iteraciones}\")\n",
    "print(f\"inversion: {inversion}\")\n",
    "print(f\"impuestos: {impuestos}\")\n",
    "print(f\"numero_annos: {numero_annos}\")\n",
    "print(f\"porcen_inv_annos: {porcen_inv_annos}\")"
   ]
  },
  {
   "cell_type": "markdown",
   "id": "e615ee5e",
   "metadata": {},
   "source": [
    "## 3. Definir la recta de los valores input"
   ]
  },
  {
   "cell_type": "code",
   "execution_count": 3,
   "id": "5e3d0691",
   "metadata": {},
   "outputs": [
    {
     "name": "stdout",
     "output_type": "stream",
     "text": [
      "Recursos de ingreso 0\n",
      "Linear equation for precio: [15200. 13800.]\n",
      "Linear equation for cantidad: [140000. 250000.]\n",
      "Recursos de ingreso 1\n",
      "Linear equation for precio: [10800.  1900.]\n",
      "Linear equation for cantidad: [35000. 62500.]\n",
      "Recursos de ingreso 2\n",
      "Linear equation for precio: [480. 410.]\n",
      "Linear equation for cantidad: [ 70000. 125000.]\n",
      "{0: {'precio': array([15200., 13800.]), 'cantidad': array([140000., 250000.])}, 1: {'precio': array([10800.,  1900.]), 'cantidad': array([35000., 62500.])}, 2: {'precio': array([480., 410.]), 'cantidad': array([ 70000., 125000.])}}\n"
     ]
    }
   ],
   "source": [
    "\n",
    "\n",
    "def get_ecuation(input):\n",
    "    precio_str=\"precio_P_\"\n",
    "    cantidad_str=\"cantidad_P_\"\n",
    "    recurso={}\n",
    "    x = np.array([0, 0.25, 0.5, 0.75, 1.0])\n",
    "    for key, value in input.iterrows():\n",
    "        print(f\"Recursos de ingreso {key}\")\n",
    "        \n",
    "        tmp_precio = []\n",
    "        tmp_cantidad = []\n",
    "\n",
    "        for j in range(0, 5):\n",
    "            tmp_precio.append(value[f\"{precio_str}{j*25}\"])\n",
    "            tmp_cantidad.append(value[f\"{cantidad_str}{j*25}\"])\n",
    "\n",
    "            \n",
    "        #Sacar la ecuacion de la recta del recurso\n",
    "        recurso[key] = {}\n",
    "        recurso[key]['precio'] = np.polyfit(x, tmp_precio, 1)\n",
    "        recurso[key]['cantidad'] = np.polyfit(x, tmp_cantidad, 1)\n",
    "        print(f\"Linear equation for precio: {recurso[key]['precio']}\")\n",
    "        print(f\"Linear equation for cantidad: {recurso[key]['cantidad']}\")\n",
    "    return recurso\n",
    "recurso=get_ecuation(input['recursos_ing'])\n",
    "\n",
    "print(recurso)"
   ]
  },
  {
   "cell_type": "markdown",
   "id": "fa37c149",
   "metadata": {},
   "source": [
    "## 4 Declarar las funciones\n",
    "Declaramos las funciones que se usaran en la simulacion de Montecarlo"
   ]
  },
  {
   "cell_type": "markdown",
   "id": "576dc4bc",
   "metadata": {},
   "source": [
    "### 4.1 Sacar valores aleatorios de los recursos"
   ]
  },
  {
   "cell_type": "code",
   "execution_count": 4,
   "id": "d35da287",
   "metadata": {},
   "outputs": [
    {
     "name": "stdout",
     "output_type": "stream",
     "text": [
      "{0: {'precio': np.float64(21581.014494467083), 'cantidad': np.float64(387411.77263749775)}, 1: {'precio': np.float64(8299.612066649586), 'cantidad': np.float64(93869.34331390221)}, 2: {'precio': np.float64(508.27892772398934), 'cantidad': np.float64(181854.90538148934)}}\n"
     ]
    }
   ],
   "source": [
    "def generate_random_values(recurso):\n",
    "    random_values = {}\n",
    "    for key, value in recurso.items():\n",
    "        a,b=np.random.uniform(0,1),np.random.uniform(0,1)\n",
    "        random_values[key] = {\"precio\": value['precio'][0]*a+value['precio'][1], \"cantidad\": value['cantidad'][0]*b+value['cantidad'][1]}\n",
    "    return random_values\n",
    "print(generate_random_values(recurso))"
   ]
  }
 ],
 "metadata": {
  "kernelspec": {
   "display_name": ".env",
   "language": "python",
   "name": "python3"
  },
  "language_info": {
   "codemirror_mode": {
    "name": "ipython",
    "version": 3
   },
   "file_extension": ".py",
   "mimetype": "text/x-python",
   "name": "python",
   "nbconvert_exporter": "python",
   "pygments_lexer": "ipython3",
   "version": "3.11.9"
  }
 },
 "nbformat": 4,
 "nbformat_minor": 5
}
